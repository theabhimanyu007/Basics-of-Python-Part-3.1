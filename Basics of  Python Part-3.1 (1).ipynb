{
 "cells": [
  {
   "cell_type": "code",
   "execution_count": 1,
   "metadata": {},
   "outputs": [],
   "source": [
    "#Revision prev session\n",
    "#flow control- Decision making statement.\n",
    "#IF\n",
    "#Else\n"
   ]
  },
  {
   "cell_type": "code",
   "execution_count": 2,
   "metadata": {},
   "outputs": [],
   "source": [
    "#If else Statement\n",
    "#If conditions\n",
    "# if marks>70\n",
    "  #get ice cream                                       \n",
    "    #if this cond is fail              \n",
    "                                       #else conditions\n",
    "                                   #else\n",
    "                                      #you'll give practice test\n",
    "                       "
   ]
  },
  {
   "cell_type": "code",
   "execution_count": 3,
   "metadata": {},
   "outputs": [],
   "source": [
    "#If ELse Pesudo code\n",
    "\n",
    "if (condition){\n",
    "                statement to be executed\n",
    "               }\n",
    "else{\n",
    "      statement to be executed.\n",
    "    }"
   ]
  },
  {
   "cell_type": "code",
   "execution_count": 4,
   "metadata": {},
   "outputs": [
    {
     "name": "stdout",
     "output_type": "stream",
     "text": [
      "b is the greator then a\n"
     ]
    }
   ],
   "source": [
    "#examples\n",
    "a=10\n",
    "b=20\n",
    "\n",
    "if b>a:\n",
    "    print('b is the greator then a')\n",
    "else:\n",
    "    print('a is the greator')"
   ]
  },
  {
   "cell_type": "code",
   "execution_count": 5,
   "metadata": {},
   "outputs": [
    {
     "name": "stdout",
     "output_type": "stream",
     "text": [
      "c is the greatest\n"
     ]
    }
   ],
   "source": [
    "a=10\n",
    "b=20\n",
    "c=30\n",
    "\n",
    "if (a>b) and (a>c):\n",
    "    print('a is the greatest')\n",
    "elif (b>a) and (b>c):\n",
    "    print('b is the greatest')\n",
    "else:\n",
    "    print('c is the greatest')"
   ]
  },
  {
   "cell_type": "code",
   "execution_count": 14,
   "metadata": {},
   "outputs": [
    {
     "name": "stdout",
     "output_type": "stream",
     "text": [
      "value is not present in tup1\n"
     ]
    }
   ],
   "source": [
    "#If else with Python collection data types\n",
    "#with 1-tuples\n",
    "tup1=('a','b','c')\n",
    "if a in  tup1:\n",
    "    print('value is present in tup1')\n",
    "else:\n",
    "    print('value is not present in tup1')"
   ]
  },
  {
   "cell_type": "code",
   "execution_count": 13,
   "metadata": {},
   "outputs": [
    {
     "name": "stdout",
     "output_type": "stream",
     "text": [
      "value is present in tup1\n"
     ]
    }
   ],
   "source": [
    "tup1=('a','b','c')\n",
    "if 'a' in  tup1:\n",
    "    print('value is present in tup1')\n",
    "else:\n",
    "    print('value is not present in tup1')"
   ]
  },
  {
   "cell_type": "code",
   "execution_count": 30,
   "metadata": {},
   "outputs": [],
   "source": [
    "#if else with\n",
    "#Lists\n",
    "\n",
    "l1=[a, b, c]\n",
    "#replace b-2\n",
    "if l1[1]==b:\n",
    "        l1[1]='z'\n"
   ]
  },
  {
   "cell_type": "code",
   "execution_count": 34,
   "metadata": {},
   "outputs": [
    {
     "data": {
      "text/plain": [
       "{'k1': 10, 'k2': 20, 'k3': 30}"
      ]
     },
     "execution_count": 34,
     "metadata": {},
     "output_type": "execute_result"
    }
   ],
   "source": [
    "##if else with\n",
    "#dictionaries\n",
    "\n",
    "d1={'k1':10, 'k2':20, 'k3':30}\n",
    "d1"
   ]
  },
  {
   "cell_type": "code",
   "execution_count": 35,
   "metadata": {},
   "outputs": [],
   "source": [
    "#Task\n",
    "#Given an integer,n , perform the following conditional actions:\n",
    "\n",
    "#If n is odd, print Weird\n",
    "#If n is even and in the inclusive range of 2 to 5 , print Not Weird\n",
    "#If n is even and in the inclusive range of 6  to 20 , print Weird\n",
    "#If n is even and greater than 20 , print Not Weird"
   ]
  },
  {
   "cell_type": "code",
   "execution_count": 3,
   "metadata": {},
   "outputs": [
    {
     "name": "stdout",
     "output_type": "stream",
     "text": [
      "20\n",
      "n is not weird\n"
     ]
    }
   ],
   "source": [
    "#code\n",
    "\n",
    "n=int(input())\n",
    "if n%2==1:\n",
    "    print('n is Weird')\n",
    "elif n%2==0 and 2<=n<=5:\n",
    "    print('n is not weird')\n",
    "elif n%2==0 and 6<=n<=20:\n",
    "    print('n is not weird')\n",
    "else:\n",
    "    print('n is weird')"
   ]
  },
  {
   "cell_type": "code",
   "execution_count": 4,
   "metadata": {},
   "outputs": [
    {
     "name": "stdout",
     "output_type": "stream",
     "text": [
      "15\n",
      "n is Weird\n"
     ]
    }
   ],
   "source": [
    "#code\n",
    "\n",
    "n=int(input())\n",
    "if n%2==1:\n",
    "    print('n is Weird')\n",
    "elif n%2==0 and 2<=n<=5:\n",
    "    print('n is not weird')\n",
    "elif n%2==0 and 6<=n<=20:\n",
    "    print('n is not weird')\n",
    "else:\n",
    "    print('n is weird')"
   ]
  },
  {
   "cell_type": "code",
   "execution_count": 11,
   "metadata": {},
   "outputs": [
    {
     "name": "stdout",
     "output_type": "stream",
     "text": [
      "16\n",
      "n is not weird\n"
     ]
    }
   ],
   "source": [
    "#code\n",
    "\n",
    "n = int(input().strip())\n",
    "if n%2==1:\n",
    "    print('n is Weird')\n",
    "elif n%2==0 and 2<=n<=5:\n",
    "    print('n is not weird')\n",
    "elif n%2==0 and 6<=n<=20:\n",
    "    print('n is not weird')\n",
    "else:\n",
    "    print('n is weird')"
   ]
  },
  {
   "cell_type": "code",
   "execution_count": 9,
   "metadata": {},
   "outputs": [
    {
     "name": "stdout",
     "output_type": "stream",
     "text": [
      "10\n",
      "0\n",
      "1\n",
      "4\n",
      "9\n",
      "16\n",
      "25\n",
      "36\n",
      "49\n",
      "64\n",
      "81\n"
     ]
    }
   ],
   "source": [
    "#task- The provided code stub reads and integer,n , from STDIN. For all non-negative integers i<n , print i*2\n",
    "\n",
    "for i in range(int(input())):\n",
    "    i=i**2\n",
    "    print(i)\n",
    "    "
   ]
  },
  {
   "cell_type": "code",
   "execution_count": 12,
   "metadata": {},
   "outputs": [],
   "source": [
    "#Functions in Python\n",
    "#String Function\n",
    "#Regular Function\n",
    "#what is function?- It is a block of code which perform specific task.\n",
    "#this types of programming known as Functional programming."
   ]
  },
  {
   "cell_type": "code",
   "execution_count": 13,
   "metadata": {},
   "outputs": [
    {
     "name": "stdout",
     "output_type": "stream",
     "text": [
      "hello world\n"
     ]
    }
   ],
   "source": [
    "def hello():\n",
    "    print(\"hello world\")\n",
    "hello()"
   ]
  },
  {
   "cell_type": "code",
   "execution_count": 14,
   "metadata": {},
   "outputs": [
    {
     "name": "stdout",
     "output_type": "stream",
     "text": [
      "good morning\n"
     ]
    }
   ],
   "source": [
    "def greeting():\n",
    "    print('good morning')\n",
    "greeting()"
   ]
  },
  {
   "cell_type": "code",
   "execution_count": 20,
   "metadata": {},
   "outputs": [
    {
     "name": "stdout",
     "output_type": "stream",
     "text": [
      "hello Abhi good morning\n"
     ]
    }
   ],
   "source": [
    "def greeting(name):\n",
    "    print('hello', name, 'good morning')\n",
    "greeting('Abhi')\n"
   ]
  },
  {
   "cell_type": "code",
   "execution_count": 21,
   "metadata": {},
   "outputs": [
    {
     "name": "stdout",
     "output_type": "stream",
     "text": [
      "hello Guest good morning\n"
     ]
    }
   ],
   "source": [
    "def greeting(name='Guest'):\n",
    "    print('hello', name, 'good morning')\n",
    "greeting()\n"
   ]
  },
  {
   "cell_type": "code",
   "execution_count": 23,
   "metadata": {},
   "outputs": [
    {
     "name": "stdout",
     "output_type": "stream",
     "text": [
      "the sqaure of5 is : 25\n"
     ]
    }
   ],
   "source": [
    "#Task- create sqaure of a number\n",
    "\n",
    "def square(x):\n",
    "    print('the sqaure of{} is : {}'.format(x,x*x))\n",
    "square(5)\n",
    "                                    "
   ]
  },
  {
   "cell_type": "code",
   "execution_count": 24,
   "metadata": {},
   "outputs": [
    {
     "name": "stdout",
     "output_type": "stream",
     "text": [
      "30\n"
     ]
    }
   ],
   "source": [
    "def add(a,b):\n",
    "    print(a+b)\n",
    "add(10,20)"
   ]
  },
  {
   "cell_type": "code",
   "execution_count": 29,
   "metadata": {},
   "outputs": [
    {
     "name": "stdout",
     "output_type": "stream",
     "text": [
      "the sqaure of10 is : 100\n"
     ]
    }
   ],
   "source": [
    "#Document String- ('''''')\n",
    "def square(x):\n",
    "    '''this is a function helping to take the sqaure of the number'''\n",
    "    print('the sqaure of{} is : {}'.format(x,x*x))\n",
    "square(10)\n",
    "        "
   ]
  },
  {
   "cell_type": "code",
   "execution_count": 37,
   "metadata": {},
   "outputs": [
    {
     "name": "stdout",
     "output_type": "stream",
     "text": [
      "10 number is even\n",
      "5 number is odd\n",
      "10.5 number is odd\n"
     ]
    }
   ],
   "source": [
    "def even_odd(x):\n",
    "    if x%2==0:\n",
    "        print('{} number is even'.format(x))\n",
    "    else:\n",
    "        print('{} number is odd'.format(x))\n",
    "even_odd(10)\n",
    "even_odd(5)\n",
    "even_odd(10.5)"
   ]
  },
  {
   "cell_type": "code",
   "execution_count": 46,
   "metadata": {},
   "outputs": [
    {
     "name": "stdout",
     "output_type": "stream",
     "text": [
      "24\n"
     ]
    }
   ],
   "source": [
    "#Task- find the factorial of any number?\n",
    "def fact(n):\n",
    "    result = 1\n",
    "    while n>=1:\n",
    "        result = result * n\n",
    "        n = n-1\n",
    "    print(result)\n",
    "    \n",
    "fact(4)"
   ]
  },
  {
   "cell_type": "code",
   "execution_count": 47,
   "metadata": {},
   "outputs": [
    {
     "name": "stdout",
     "output_type": "stream",
     "text": [
      "1\n",
      "the factorial of 1 is None\n",
      "2\n",
      "the factorial of 2 is None\n",
      "6\n",
      "the factorial of 3 is None\n",
      "24\n",
      "the factorial of 4 is None\n",
      "120\n",
      "the factorial of 5 is None\n",
      "720\n",
      "the factorial of 6 is None\n",
      "5040\n",
      "the factorial of 7 is None\n",
      "40320\n",
      "the factorial of 8 is None\n",
      "362880\n",
      "the factorial of 9 is None\n",
      "3628800\n",
      "the factorial of 10 is None\n"
     ]
    }
   ],
   "source": [
    "#Task- find the factorial for the number of 1 to 10?\n",
    "def fact(n):\n",
    "    result = 1\n",
    "    while n>=1:\n",
    "        result = result * n\n",
    "        n = n-1\n",
    "    print(result)\n",
    "    \n",
    "for i in range(1,11):\n",
    "    print('the factorial of {} is {}'.format(i, fact(i)))"
   ]
  },
  {
   "cell_type": "code",
   "execution_count": 48,
   "metadata": {},
   "outputs": [],
   "source": [
    "def add(a,b):\n",
    "    return a+b"
   ]
  },
  {
   "cell_type": "code",
   "execution_count": 49,
   "metadata": {},
   "outputs": [],
   "source": [
    "def add1(a,b):\n",
    "    print(a+b)\n"
   ]
  },
  {
   "cell_type": "code",
   "execution_count": 51,
   "metadata": {},
   "outputs": [],
   "source": [
    "q=add(10,2)"
   ]
  },
  {
   "cell_type": "code",
   "execution_count": 52,
   "metadata": {},
   "outputs": [
    {
     "data": {
      "text/plain": [
       "12"
      ]
     },
     "execution_count": 52,
     "metadata": {},
     "output_type": "execute_result"
    }
   ],
   "source": [
    "q"
   ]
  },
  {
   "cell_type": "code",
   "execution_count": 53,
   "metadata": {},
   "outputs": [
    {
     "name": "stdout",
     "output_type": "stream",
     "text": [
      "12\n"
     ]
    }
   ],
   "source": [
    "p=add1(10,2)"
   ]
  },
  {
   "cell_type": "code",
   "execution_count": 55,
   "metadata": {},
   "outputs": [
    {
     "data": {
      "text/plain": [
       "NoneType"
      ]
     },
     "execution_count": 55,
     "metadata": {},
     "output_type": "execute_result"
    }
   ],
   "source": [
    "type(p)"
   ]
  },
  {
   "cell_type": "code",
   "execution_count": 56,
   "metadata": {},
   "outputs": [
    {
     "data": {
      "text/plain": [
       "int"
      ]
     },
     "execution_count": 56,
     "metadata": {},
     "output_type": "execute_result"
    }
   ],
   "source": [
    "type(q)"
   ]
  },
  {
   "cell_type": "code",
   "execution_count": 72,
   "metadata": {},
   "outputs": [
    {
     "name": "stdout",
     "output_type": "stream",
     "text": [
      "the factorial of 1 is 1\n",
      "the factorial of 2 is 2\n",
      "the factorial of 3 is 6\n",
      "the factorial of 4 is 24\n",
      "the factorial of 5 is 120\n",
      "the factorial of 6 is 720\n",
      "the factorial of 7 is 5040\n",
      "the factorial of 8 is 40320\n",
      "the factorial of 9 is 362880\n",
      "the factorial of 10 is 3628800\n"
     ]
    }
   ],
   "source": [
    "#hence return is helping us to store the value in variable whereas print will only give the output.\n",
    "#Task- find the factorial for the number of 1 to 10?\n",
    "def fact(n):\n",
    "    result = 1\n",
    "    while n>=1:\n",
    "        result = result * n\n",
    "        n = n-1\n",
    "    return result\n",
    "    \n",
    "for i in range(1,11):\n",
    "    print('the factorial of {} is {}'.format(i, fact(i)))"
   ]
  },
  {
   "cell_type": "code",
   "execution_count": 74,
   "metadata": {},
   "outputs": [
    {
     "data": {
      "text/plain": [
       "(12, 8, 20, 5.0)"
      ]
     },
     "execution_count": 74,
     "metadata": {},
     "output_type": "execute_result"
    }
   ],
   "source": [
    "#Task- create calculator?\n",
    "def calc(a,b):\n",
    "    sum=a+b\n",
    "    sub=a-b\n",
    "    mul=a*b\n",
    "    div=a/b\n",
    "    return sum, sub, mul, div\n",
    "\n",
    "calc(10,2)"
   ]
  },
  {
   "cell_type": "code",
   "execution_count": 75,
   "metadata": {},
   "outputs": [
    {
     "data": {
      "text/plain": [
       "{'sum': 12, 'sub': 8, 'mul': 20, 'div': 5.0}"
      ]
     },
     "execution_count": 75,
     "metadata": {},
     "output_type": "execute_result"
    }
   ],
   "source": [
    "def calc(a,b):\n",
    "    sum=a+b\n",
    "    sub=a-b\n",
    "    mul=a*b\n",
    "    div=a/b\n",
    "    return {'sum':sum, 'sub':sub, 'mul':mul, 'div':div}\n",
    "\n",
    "calc(10,2)"
   ]
  },
  {
   "cell_type": "code",
   "execution_count": null,
   "metadata": {},
   "outputs": [],
   "source": [
    "#Types of Argument\n",
    "#Positional Argument\n",
    "#Keyword Argument\n",
    "#Default Argument\n",
    "#Variable Length Argument\n"
   ]
  },
  {
   "cell_type": "code",
   "execution_count": 77,
   "metadata": {},
   "outputs": [
    {
     "ename": "TypeError",
     "evalue": "sum() missing 1 required positional argument: 'b'",
     "output_type": "error",
     "traceback": [
      "\u001b[1;31m---------------------------------------------------------------------------\u001b[0m",
      "\u001b[1;31mTypeError\u001b[0m                                 Traceback (most recent call last)",
      "\u001b[1;32m<ipython-input-77-5c81e91b0f03>\u001b[0m in \u001b[0;36m<module>\u001b[1;34m\u001b[0m\n\u001b[0;32m      2\u001b[0m \u001b[1;32mdef\u001b[0m \u001b[0msum\u001b[0m\u001b[1;33m(\u001b[0m\u001b[0ma\u001b[0m\u001b[1;33m,\u001b[0m\u001b[0mb\u001b[0m\u001b[1;33m)\u001b[0m\u001b[1;33m:\u001b[0m\u001b[1;33m\u001b[0m\u001b[1;33m\u001b[0m\u001b[0m\n\u001b[0;32m      3\u001b[0m     \u001b[0mprint\u001b[0m\u001b[1;33m(\u001b[0m\u001b[0ma\u001b[0m\u001b[1;33m+\u001b[0m\u001b[0mb\u001b[0m\u001b[1;33m)\u001b[0m\u001b[1;33m\u001b[0m\u001b[1;33m\u001b[0m\u001b[0m\n\u001b[1;32m----> 4\u001b[1;33m \u001b[0msum\u001b[0m\u001b[1;33m(\u001b[0m\u001b[1;36m10\u001b[0m\u001b[1;33m)\u001b[0m\u001b[1;33m\u001b[0m\u001b[1;33m\u001b[0m\u001b[0m\n\u001b[0m\u001b[0;32m      5\u001b[0m \u001b[1;33m\u001b[0m\u001b[0m\n",
      "\u001b[1;31mTypeError\u001b[0m: sum() missing 1 required positional argument: 'b'"
     ]
    }
   ],
   "source": [
    "#Positional Argu- Exact correct positional order  and number of argument is important.\n",
    "def sum(a,b):\n",
    "    print(a+b)\n",
    "sum(10)\n",
    "       "
   ]
  },
  {
   "cell_type": "code",
   "execution_count": 81,
   "metadata": {},
   "outputs": [
    {
     "name": "stdout",
     "output_type": "stream",
     "text": [
      "Hello the scholar your company is: Abhi\n",
      "Hello Abhi your company is: the scholar\n"
     ]
    }
   ],
   "source": [
    "#Keyword Argument\n",
    "def greeting(name,company):\n",
    "    print('Hello',name, 'your company is:', company)\n",
    "greeting('the scholar', 'Abhi')\n",
    "#after giving keyword\n",
    "greeting(company='the scholar', name= 'Abhi')"
   ]
  },
  {
   "cell_type": "code",
   "execution_count": 82,
   "metadata": {},
   "outputs": [
    {
     "ename": "SyntaxError",
     "evalue": "non-default argument follows default argument (<ipython-input-82-f9211cdb998b>, line 2)",
     "output_type": "error",
     "traceback": [
      "\u001b[1;36m  File \u001b[1;32m\"<ipython-input-82-f9211cdb998b>\"\u001b[1;36m, line \u001b[1;32m2\u001b[0m\n\u001b[1;33m    def greeting(name= 'Guest',company):\u001b[0m\n\u001b[1;37m                ^\u001b[0m\n\u001b[1;31mSyntaxError\u001b[0m\u001b[1;31m:\u001b[0m non-default argument follows default argument\n"
     ]
    }
   ],
   "source": [
    "#Default Argument\n",
    "def greeting(name= 'Guest',company):\n",
    "    print('Hello',name, 'your company is:', company)\n",
    "greeting('The scholar')"
   ]
  },
  {
   "cell_type": "code",
   "execution_count": 83,
   "metadata": {},
   "outputs": [
    {
     "name": "stdout",
     "output_type": "stream",
     "text": [
      "Hello Guest your company is: The scholar\n"
     ]
    }
   ],
   "source": [
    "#Default Argument\n",
    "#non default argu takes first pos.\n",
    "def greeting(company, name= 'Guest'):\n",
    "    print('Hello',name, 'your company is:', company)\n",
    "greeting('The scholar')"
   ]
  },
  {
   "cell_type": "code",
   "execution_count": 84,
   "metadata": {},
   "outputs": [
    {
     "name": "stdout",
     "output_type": "stream",
     "text": [
      "Hello Guest your company is: the scholar\n"
     ]
    }
   ],
   "source": [
    "#Default Argument\n",
    "def greeting(company='the scholar', name= 'Guest'):\n",
    "    print('Hello',name, 'your company is:', company)\n",
    "greeting()"
   ]
  },
  {
   "cell_type": "code",
   "execution_count": 85,
   "metadata": {},
   "outputs": [
    {
     "name": "stdout",
     "output_type": "stream",
     "text": [
      "student name Guest\n",
      "student age 20\n",
      "student marks 100\n",
      "student msg Good morng\n"
     ]
    }
   ],
   "source": [
    "def greeting(marks, age, name='Guest', msg='Good morng'):\n",
    "    print('student name', name)\n",
    "    print('student age', age)\n",
    "    print('student marks', marks)\n",
    "    print('student msg', msg)\n",
    "    \n",
    "greeting(100,20)"
   ]
  },
  {
   "cell_type": "code",
   "execution_count": 90,
   "metadata": {},
   "outputs": [
    {
     "name": "stdout",
     "output_type": "stream",
     "text": [
      "student name Guest\n",
      "student age 20\n",
      "student marks 100\n",
      "student msg Good morng\n"
     ]
    }
   ],
   "source": [
    "def greeting(marks, age, name='Guest', msg='Good morng'):\n",
    "    print('student name', name)\n",
    "    print('student age', age)\n",
    "    print('student marks', marks)\n",
    "    print('student msg', msg)\n",
    "    \n",
    "#greeting(100,20)\n",
    "greeting(age=20, marks=100)\n",
    "#greeting(marks=100, 20)"
   ]
  },
  {
   "cell_type": "code",
   "execution_count": null,
   "metadata": {},
   "outputs": [],
   "source": []
  },
  {
   "cell_type": "code",
   "execution_count": 92,
   "metadata": {},
   "outputs": [
    {
     "name": "stdout",
     "output_type": "stream",
     "text": [
      "30\n",
      "60\n",
      "100\n"
     ]
    }
   ],
   "source": [
    "def sum(a,b):\n",
    "    print(a+b)\n",
    "    \n",
    "def sum1(a,b,c):\n",
    "    print(a+b+c)\n",
    "    \n",
    "def sum2(a,b,c,d):\n",
    "    print(a+b+c+d)\n",
    "    \n",
    "sum(10,20)\n",
    "sum1(10,20,30)\n",
    "sum2(10,20,30,40)"
   ]
  },
  {
   "cell_type": "code",
   "execution_count": 105,
   "metadata": {},
   "outputs": [
    {
     "ename": "IndentationError",
     "evalue": "unindent does not match any outer indentation level (<tokenize>, line 9)",
     "output_type": "error",
     "traceback": [
      "\u001b[1;36m  File \u001b[1;32m\"<tokenize>\"\u001b[1;36m, line \u001b[1;32m9\u001b[0m\n\u001b[1;33m    print(result)\u001b[0m\n\u001b[1;37m    ^\u001b[0m\n\u001b[1;31mIndentationError\u001b[0m\u001b[1;31m:\u001b[0m unindent does not match any outer indentation level\n"
     ]
    }
   ],
   "source": [
    "#to add multiple number in a line can be done with only\n",
    "#Variable length argument\n",
    " \n",
    "    def sum(*a):\n",
    "        result = 0\n",
    "        for i in a:\n",
    "             result = result + i\n",
    "            \n",
    "            print(result)\n",
    "    sum(10,20)"
   ]
  },
  {
   "cell_type": "code",
   "execution_count": 112,
   "metadata": {},
   "outputs": [
    {
     "name": "stdout",
     "output_type": "stream",
     "text": [
      "280\n"
     ]
    }
   ],
   "source": [
    "def sum(*a):\n",
    "        result = 0\n",
    "        for i in a:\n",
    "            result = result + i\n",
    "        print(result)\n",
    "sum(10,20,30,40,50,60,70)  #a will store the value in form of tuple "
   ]
  },
  {
   "cell_type": "code",
   "execution_count": 118,
   "metadata": {},
   "outputs": [
    {
     "name": "stdout",
     "output_type": "stream",
     "text": [
      "F1: 10\n"
     ]
    }
   ],
   "source": [
    "#Global variable-\n",
    "a=10\n",
    "def f1():\n",
    "     print('F1:',a)\n",
    "f1()"
   ]
  },
  {
   "cell_type": "code",
   "execution_count": 119,
   "metadata": {},
   "outputs": [
    {
     "data": {
      "text/plain": [
       "10"
      ]
     },
     "execution_count": 119,
     "metadata": {},
     "output_type": "execute_result"
    }
   ],
   "source": [
    "a"
   ]
  },
  {
   "cell_type": "code",
   "execution_count": 125,
   "metadata": {},
   "outputs": [
    {
     "name": "stdout",
     "output_type": "stream",
     "text": [
      "F1: 20\n"
     ]
    }
   ],
   "source": [
    "def f1():\n",
    "    pp=20\n",
    "    print('F1:',pp)\n",
    "    \n",
    "def f2():\n",
    "    print('F2:',pp)\n",
    "f1()\n",
    "#f2()"
   ]
  },
  {
   "cell_type": "code",
   "execution_count": 126,
   "metadata": {},
   "outputs": [
    {
     "ename": "NameError",
     "evalue": "name 'pp' is not defined",
     "output_type": "error",
     "traceback": [
      "\u001b[1;31m---------------------------------------------------------------------------\u001b[0m",
      "\u001b[1;31mNameError\u001b[0m                                 Traceback (most recent call last)",
      "\u001b[1;32m<ipython-input-126-da6f3b61d4e1>\u001b[0m in \u001b[0;36m<module>\u001b[1;34m\u001b[0m\n\u001b[0;32m      6\u001b[0m     \u001b[0mprint\u001b[0m\u001b[1;33m(\u001b[0m\u001b[1;34m'F2:'\u001b[0m\u001b[1;33m,\u001b[0m\u001b[0mpp\u001b[0m\u001b[1;33m)\u001b[0m\u001b[1;33m\u001b[0m\u001b[1;33m\u001b[0m\u001b[0m\n\u001b[0;32m      7\u001b[0m \u001b[1;31m#f1()\u001b[0m\u001b[1;33m\u001b[0m\u001b[1;33m\u001b[0m\u001b[1;33m\u001b[0m\u001b[0m\n\u001b[1;32m----> 8\u001b[1;33m \u001b[0mf2\u001b[0m\u001b[1;33m(\u001b[0m\u001b[1;33m)\u001b[0m\u001b[1;33m\u001b[0m\u001b[1;33m\u001b[0m\u001b[0m\n\u001b[0m",
      "\u001b[1;32m<ipython-input-126-da6f3b61d4e1>\u001b[0m in \u001b[0;36mf2\u001b[1;34m()\u001b[0m\n\u001b[0;32m      4\u001b[0m \u001b[1;33m\u001b[0m\u001b[0m\n\u001b[0;32m      5\u001b[0m \u001b[1;32mdef\u001b[0m \u001b[0mf2\u001b[0m\u001b[1;33m(\u001b[0m\u001b[1;33m)\u001b[0m\u001b[1;33m:\u001b[0m\u001b[1;33m\u001b[0m\u001b[1;33m\u001b[0m\u001b[0m\n\u001b[1;32m----> 6\u001b[1;33m     \u001b[0mprint\u001b[0m\u001b[1;33m(\u001b[0m\u001b[1;34m'F2:'\u001b[0m\u001b[1;33m,\u001b[0m\u001b[0mpp\u001b[0m\u001b[1;33m)\u001b[0m\u001b[1;33m\u001b[0m\u001b[1;33m\u001b[0m\u001b[0m\n\u001b[0m\u001b[0;32m      7\u001b[0m \u001b[1;31m#f1()\u001b[0m\u001b[1;33m\u001b[0m\u001b[1;33m\u001b[0m\u001b[1;33m\u001b[0m\u001b[0m\n\u001b[0;32m      8\u001b[0m \u001b[0mf2\u001b[0m\u001b[1;33m(\u001b[0m\u001b[1;33m)\u001b[0m\u001b[1;33m\u001b[0m\u001b[1;33m\u001b[0m\u001b[0m\n",
      "\u001b[1;31mNameError\u001b[0m: name 'pp' is not defined"
     ]
    }
   ],
   "source": [
    "def f1():\n",
    "    pp=20\n",
    "    print('F1:',pp)\n",
    "    \n",
    "def f2():\n",
    "    print('F2:',pp)\n",
    "#f1()\n",
    "f2()#pp only local variable to f1"
   ]
  },
  {
   "cell_type": "code",
   "execution_count": 128,
   "metadata": {},
   "outputs": [],
   "source": [
    "pp=1000"
   ]
  },
  {
   "cell_type": "code",
   "execution_count": 129,
   "metadata": {},
   "outputs": [
    {
     "name": "stdout",
     "output_type": "stream",
     "text": [
      "F2: 1000\n"
     ]
    }
   ],
   "source": [
    "def f1():\n",
    "    pp=20\n",
    "    print('F1:',pp)\n",
    "    \n",
    "def f2():\n",
    "    print('F2:',pp)\n",
    "\n",
    "f2()"
   ]
  },
  {
   "cell_type": "code",
   "execution_count": 132,
   "metadata": {},
   "outputs": [
    {
     "name": "stdout",
     "output_type": "stream",
     "text": [
      "F1: 1000\n",
      "F2: 1000\n"
     ]
    }
   ],
   "source": [
    "def f1():\n",
    "     print('F1:',pp)\n",
    "    \n",
    "def f2():\n",
    "    print('F2:',pp)\n",
    "\n",
    "f1()\n",
    "f2()\n"
   ]
  },
  {
   "cell_type": "code",
   "execution_count": 133,
   "metadata": {},
   "outputs": [
    {
     "name": "stdout",
     "output_type": "stream",
     "text": [
      "F1: 20\n",
      "F2: 1000\n"
     ]
    }
   ],
   "source": [
    "#local variable always take priority.\n",
    "def f1():\n",
    "    pp=20\n",
    "    print('F1:',pp)\n",
    "    \n",
    "def f2():\n",
    "    print('F2:',pp)\n",
    "\n",
    "f1()\n",
    "f2()"
   ]
  }
 ],
 "metadata": {
  "kernelspec": {
   "display_name": "Python 3",
   "language": "python",
   "name": "python3"
  },
  "language_info": {
   "codemirror_mode": {
    "name": "ipython",
    "version": 3
   },
   "file_extension": ".py",
   "mimetype": "text/x-python",
   "name": "python",
   "nbconvert_exporter": "python",
   "pygments_lexer": "ipython3",
   "version": "3.7.6"
  }
 },
 "nbformat": 4,
 "nbformat_minor": 4
}
